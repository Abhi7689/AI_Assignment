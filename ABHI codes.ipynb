{
 "cells": [
  {
   "cell_type": "code",
   "execution_count": 8,
   "id": "0407fdd7",
   "metadata": {},
   "outputs": [
    {
     "name": "stdout",
     "output_type": "stream",
     "text": [
      "    Student  Subject1  Subject2  Subject3  Total_marks Grade Pass/Fail\n",
      "0  abhijith        90        73        68          231     B         P\n",
      "1    rohith        91        94        97          282     O         P\n",
      "2     vivek        96        58        56          210     C         P\n",
      "3  abhinash        70        49        33          152    RA         F\n"
     ]
    }
   ],
   "source": [
    "import pandas as pd\n",
    "data={\n",
    "    \"Student\":[\"abhijith\",\"rohith\",\"vivek\",\"abhinash\"],\n",
    "    \"Subject1\":[90,91,96,70],\n",
    "    \"Subject2\":[73,94,58,49],\n",
    "    \"Subject3\":[68,97,56,33]\n",
    "}\n",
    "columnsList=[\"Subject1\",\"Subject2\",\"Subject3\"]\n",
    "answer=pd.DataFrame(data,columns = [\"Student\",\"Subject1\",\"Subject2\",\"Subject3\"])\n",
    "answer[\"Total_marks\"]=answer[columnsList].sum(axis=1)\n",
    "columnList1=answer[\"Total_marks\"].tolist()\n",
    "fp=[]\n",
    "grade=[]\n",
    "\n",
    "for ind in answer.index:\n",
    "     if((answer[\"Total_marks\"][ind])<200):\n",
    "            fp.append(\"F\")\n",
    "     else:\n",
    "        fp.append(\"P\")\n",
    "     if((answer[\"Total_marks\"][ind])>275):\n",
    "        grade.append(\"O\")\n",
    "     elif((answer[\"Total_marks\"][ind])>250):\n",
    "        grade.append(\"A\")\n",
    "     elif((answer[\"Total_marks\"][ind])>225):\n",
    "        grade.append(\"B\")\n",
    "     elif((answer[\"Total_marks\"][ind])>200):\n",
    "        grade.append(\"C\")\n",
    "     elif((answer[\"Total_marks\"][ind])<200):\n",
    "        grade.append(\"RA\")\n",
    "    \n",
    "answer[\"Grade\"]=grade\n",
    "answer[\"Pass/Fail\"]=fp\n",
    "answer.to_csv(\"assignment1.csv\",index=True)\n",
    "\n",
    "print(answer)"
   ]
  },
  {
   "cell_type": "code",
   "execution_count": null,
   "id": "7f751513",
   "metadata": {},
   "outputs": [],
   "source": [
    "import pandas as pd\n",
    "data={\n",
    "    \"Student\":[\"vijith\",\"kranthi\",\"balaji\",\"ajay\"],\n",
    "    \"Subject1\":[93,94,95,69],\n",
    "    \"Subject2\":[74,93,55,48],\n",
    "    \"Subject3\":[63,93,51,39]\n",
    "}\n",
    "columnsList=[\"Subject1\",\"Subject2\",\"Subject3\"]\n",
    "answer=pd.DataFrame(data,columns = [\"Student\",\"Subject1\",\"Subject2\",\"Subject3\"])\n",
    "answer[\"Total_marks\"]=answer[columnsList].sum(axis=1)\n",
    "columnList1=answer[\"Total_marks\"].tolist()\n",
    "fp=[]\n",
    "grade=[]\n",
    "\n",
    "for ind in answer.index:\n",
    "     if((answer[\"Total_marks\"][ind])<200):\n",
    "            fp.append(\"F\")\n",
    "     else:\n",
    "        fp.append(\"P\")\n",
    "     if((answer[\"Total_marks\"][ind])>275):\n",
    "        grade.append(\"O\")\n",
    "     elif((answer[\"Total_marks\"][ind])>250):\n",
    "        grade.append(\"A\")\n",
    "     elif((answer[\"Total_marks\"][ind])>225):\n",
    "        grade.append(\"B\")\n",
    "     elif((answer[\"Total_marks\"][ind])>200):\n",
    "        grade.append(\"C\")\n",
    "     elif((answer[\"Total_marks\"][ind])<200):\n",
    "        grade.append(\"RA\")\n",
    "    \n",
    "answer[\"Grade\"]=grade\n",
    "answer[\"Pass/Fail\"]=fp\n",
    "answer.to_csv(\"assignment1.csv\",index=True)\n",
    "\n",
    "print(answer)"
   ]
  },
  {
   "cell_type": "code",
   "execution_count": null,
   "id": "210167ca",
   "metadata": {},
   "outputs": [],
   "source": []
  }
 ],
 "metadata": {
  "kernelspec": {
   "display_name": "Python 3 (ipykernel)",
   "language": "python",
   "name": "python3"
  },
  "language_info": {
   "codemirror_mode": {
    "name": "ipython",
    "version": 3
   },
   "file_extension": ".py",
   "mimetype": "text/x-python",
   "name": "python",
   "nbconvert_exporter": "python",
   "pygments_lexer": "ipython3",
   "version": "3.9.7"
  }
 },
 "nbformat": 4,
 "nbformat_minor": 5
}
